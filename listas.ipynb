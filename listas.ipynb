{
 "cells": [
  {
   "cell_type": "code",
   "execution_count": null,
   "id": "de3b041f",
   "metadata": {},
   "outputs": [],
   "source": [
    "import time"
   ]
  },
  {
   "cell_type": "code",
   "execution_count": null,
   "id": "9d01279b",
   "metadata": {},
   "outputs": [],
   "source": [
    "start_time = time.time()\n",
    "\n",
    "lista_numeros = []\n",
    "\n",
    "for i in range(0, 1000001):\n",
    "    \n",
    "    lista_numeros.append(i)\n",
    "\n",
    "final_time = time.time() - start_time\n",
    "\n",
    "print(f\"El algoritmo demoró: {final_time}\")"
   ]
  },
  {
   "cell_type": "code",
   "execution_count": null,
   "id": "ab2b3aa4",
   "metadata": {},
   "outputs": [],
   "source": [
    "start_time = time.time()\n",
    "\n",
    "lista_numeros2 = [i**2 for i in range(0, 1000001)]\n",
    "\n",
    "final_time = time.time() - start_time\n",
    "\n",
    "print(f\"El algoritmo demoró: {final_time}\")"
   ]
  },
  {
   "cell_type": "code",
   "execution_count": null,
   "id": "7c626db6",
   "metadata": {},
   "outputs": [],
   "source": [
    "import sqlite3\n",
    "import random\n",
    "import time\n",
    "import os"
   ]
  },
  {
   "cell_type": "code",
   "execution_count": null,
   "id": "ee95d050",
   "metadata": {},
   "outputs": [],
   "source": [
    "conn = sqlite3.connect(os.path.join(os.getcwd(), \"clientes.sqlite3\"))  # Base de datos en memoria\n",
    "cur = conn.cursor()"
   ]
  },
  {
   "cell_type": "code",
   "execution_count": null,
   "id": "02117958",
   "metadata": {},
   "outputs": [],
   "source": [
    "cur.execute('''CREATE TABLE Clientes (\n",
    "                id INTEGER PRIMARY KEY,\n",
    "                nombre TEXT,\n",
    "                ciudad TEXT)''')\n"
   ]
  },
  {
   "cell_type": "code",
   "execution_count": null,
   "id": "92031190",
   "metadata": {},
   "outputs": [],
   "source": [
    "def generar_nombre():\n",
    "    nombres = ['Juan', 'Maria', 'Matias', 'Ana', 'Carlos', 'Lucia', 'Diego', 'Laura']\n",
    "    return random.choice(nombres) + ' ' + random.choice(['Arroyo', 'Macchi', 'Lopez', 'Martinez'])\n"
   ]
  },
  {
   "cell_type": "code",
   "execution_count": null,
   "id": "76c460e1",
   "metadata": {},
   "outputs": [],
   "source": [
    "ciudades = ['Buenos Aires', 'Córdoba', 'Rosario', 'Mendoza', 'Salta', 'La Plata', 'Mar del Plata', 'Jujuy']\n",
    "\n",
    "for i in range(1000):\n",
    "    nombre = generar_nombre()\n",
    "    ciudad = random.choice(ciudades)\n",
    "    cur.execute('INSERT INTO Clientes (nombre, ciudad) VALUES (?, ?)', (nombre, ciudad))\n"
   ]
  },
  {
   "cell_type": "code",
   "execution_count": null,
   "id": "c4c301d4",
   "metadata": {},
   "outputs": [],
   "source": [
    "conn.commit()"
   ]
  },
  {
   "cell_type": "code",
   "execution_count": null,
   "id": "cecb8da0",
   "metadata": {},
   "outputs": [],
   "source": [
    "ciudad_busqueda = 'Jujuy'\n",
    "consulta = f\"SELECT * FROM Clientes WHERE ciudad = '{ciudad_busqueda}'\"\n",
    "\n",
    "start_time = time.time()\n",
    "cur.execute(consulta)\n",
    "resultados_sin_indice = cur.fetchall()\n",
    "tiempo_sin_indice = time.time() - start_time\n",
    "\n",
    "print(f'Tiempo de ejecución sin índice: {tiempo_sin_indice:.6f} segundos')\n",
    "print(f'Número de resultados sin índice: {len(resultados_sin_indice)}')\n"
   ]
  },
  {
   "cell_type": "code",
   "execution_count": null,
   "id": "e069a1ba",
   "metadata": {},
   "outputs": [],
   "source": [
    "# Paso 4: Crear un índice en la columna ciudad\n",
    "cur.execute('CREATE INDEX idx_ciudad ON Clientes (ciudad)')\n",
    "conn.commit()"
   ]
  },
  {
   "cell_type": "code",
   "execution_count": null,
   "id": "1f61f9fb",
   "metadata": {},
   "outputs": [],
   "source": [
    "start_time = time.time()\n",
    "cur.execute(consulta)\n",
    "resultados_con_indice = cur.fetchall()\n",
    "tiempo_con_indice = time.time() - start_time\n",
    "\n",
    "\n",
    "print(f'Tiempo de ejecución con índice: {tiempo_con_indice:.6f} segundos')\n",
    "print(f'Número de resultados con índice: {len(resultados_con_indice)}')\n"
   ]
  },
  {
   "cell_type": "code",
   "execution_count": null,
   "id": "8a2e3cf0",
   "metadata": {},
   "outputs": [],
   "source": []
  }
 ],
 "metadata": {
  "kernelspec": {
   "display_name": "Python 3 (ipykernel)",
   "language": "python",
   "name": "python3"
  },
  "language_info": {
   "codemirror_mode": {
    "name": "ipython",
    "version": 3
   },
   "file_extension": ".py",
   "mimetype": "text/x-python",
   "name": "python",
   "nbconvert_exporter": "python",
   "pygments_lexer": "ipython3",
   "version": "3.11.5"
  }
 },
 "nbformat": 4,
 "nbformat_minor": 5
}
