{
 "cells": [
  {
   "cell_type": "code",
   "execution_count": 1,
   "id": "13e8aa36",
   "metadata": {},
   "outputs": [],
   "source": [
    "import sqlite3\n",
    "import random\n",
    "import time\n",
    "import os\n",
    "import re\n",
    "import unidecode"
   ]
  },
  {
   "cell_type": "code",
   "execution_count": 2,
   "id": "6cd7dd53",
   "metadata": {},
   "outputs": [],
   "source": [
    "conn = sqlite3.connect(os.path.join(os.getcwd(), \"clientes.sqlite3\"))  # Base de datos en memoria\n",
    "cur = conn.cursor()"
   ]
  },
  {
   "cell_type": "code",
   "execution_count": 3,
   "id": "6130f766",
   "metadata": {},
   "outputs": [
    {
     "data": {
      "text/plain": [
       "<sqlite3.Cursor at 0x23d4ab3b140>"
      ]
     },
     "execution_count": 3,
     "metadata": {},
     "output_type": "execute_result"
    }
   ],
   "source": [
    "cur.execute('''CREATE TABLE Clientes (\n",
    "                id INTEGER PRIMARY KEY,\n",
    "                nombre TEXT,\n",
    "                ciudad TEXT)''')"
   ]
  },
  {
   "cell_type": "code",
   "execution_count": 4,
   "id": "2e82d428",
   "metadata": {},
   "outputs": [],
   "source": [
    "def borrar_diacritico(texto):\n",
    "    \n",
    "    keep = 'çÇ'\n",
    "    \n",
    "    return re.sub(f\"([^{re.escape(keep)}]+)\", lambda m: unidecode.unidecode(m.group(0)), texto)"
   ]
  },
  {
   "cell_type": "code",
   "execution_count": 5,
   "id": "bf3a1c5c",
   "metadata": {},
   "outputs": [],
   "source": [
    "def generar_nombre():\n",
    "    \n",
    "    nombres = [\n",
    "        \"Alejandro\", \"Beatriz\", \"Carlos\", \"Diana\", \"Esteban\", \"Fernanda\", \"Gabriel\", \"Hilda\", \n",
    "        \"Ignacio\", \"Jimena\", \"Karla\", \"Luis\", \"Marta\", \"Nicolás\", \"Olga\", \"Pablo\", \"Queralt\", \n",
    "        \"Rafael\", \"Sara\", \"Tomás\", \"Úrsula\", \"Valeria\", \"Walter\", \"Ximena\", \"Yolanda\", \"Zacarías\",\n",
    "        \"Andrés\", \"Bárbara\", \"César\", \"Daniela\", \"Emilio\", \"Felipe\", \"Gloria\", \"Héctor\", \"Iván\", \n",
    "        \"Juliana\", \"Kevin\", \"Lorena\", \"Miguel\", \"Natalia\", \"Oscar\", \"Patricia\", \"Raúl\", \n",
    "        \"Silvia\", \"Teodoro\", \"Uriel\", \"Verónica\", \"Wilfredo\", \"Xavier\", \"Yago\", \"Zoé\"\n",
    "    ]\n",
    "    \n",
    "    apellidos = [\n",
    "        \"García\", \"Fernández\", \"López\", \"Martínez\", \"Rodríguez\", \"Pérez\", \"Sánchez\", \"Gómez\", \n",
    "        \"Martín\", \"Jiménez\", \"Ruiz\", \"Hernández\", \"Díaz\", \"Moreno\", \"Muñoz\", \"Álvarez\", \"Romero\", \n",
    "        \"Gutiérrez\", \"Alonso\", \"Navarro\", \"Torres\", \"Domínguez\", \"Vázquez\", \"Ramos\", \"Gil\", \n",
    "        \"Serrano\", \"Molina\", \"Blanco\", \"Castro\", \"Ortiz\", \"Rubio\", \"Delgado\", \"Méndez\", \n",
    "        \"Iglesias\", \"Cruz\", \"Santos\", \"Ortega\", \"Mora\", \"Vera\", \"Peña\", \"Carrasco\", \"Flores\", \n",
    "        \"Cabrera\", \"Reyes\", \"Nieto\", \"Herrera\", \"Lara\", \"Marín\", \"Soto\", \"Campos\", \"León\"\n",
    "    ]\n",
    "\n",
    "    return borrar_diacritico(random.choice(nombres)) + ' ' + borrar_diacritico(random.choice(apellidos))"
   ]
  },
  {
   "cell_type": "code",
   "execution_count": 6,
   "id": "415ba018",
   "metadata": {},
   "outputs": [],
   "source": [
    "ciudades = [\n",
    "    \"Buenos Aires\", \"Catamarca\", \"Chaco\", \"Chubut\", \"Córdoba\", \"Corrientes\", \"Entre Ríos\", \n",
    "    \"Formosa\", \"Jujuy\", \"La Pampa\", \"La Rioja\", \"Mendoza\", \"Misiones\", \"Neuquén\", \n",
    "    \"Río Negro\", \"Salta\", \"San Juan\", \"San Luis\", \"Santa Cruz\", \"Santa Fe\", \"Santiago del Estero\", \n",
    "    \"Tierra del Fuego\", \"Tucumán\", \"Ciudad Autónoma de Buenos Aires\"\n",
    "]\n",
    "\n",
    "\n",
    "for i in range(1000000):\n",
    "    nombre = generar_nombre()\n",
    "    ciudad = borrar_diacritico(random.choice(ciudades))\n",
    "    cur.execute('INSERT INTO Clientes (nombre, ciudad) VALUES (?, ?)', (nombre, ciudad))"
   ]
  },
  {
   "cell_type": "code",
   "execution_count": 7,
   "id": "eab3fef3",
   "metadata": {},
   "outputs": [],
   "source": [
    "conn.commit()"
   ]
  },
  {
   "cell_type": "code",
   "execution_count": 8,
   "id": "fc3bd43b",
   "metadata": {},
   "outputs": [
    {
     "name": "stdout",
     "output_type": "stream",
     "text": [
      "Tiempo de ejecución sin índice: 0.383903 segundos\n",
      "Número de resultados sin índice: 42243\n"
     ]
    }
   ],
   "source": [
    "ciudad_busqueda = 'Jujuy'\n",
    "consulta = f\"SELECT * FROM Clientes WHERE ciudad = '{ciudad_busqueda}'\"\n",
    "\n",
    "start_time = time.time()\n",
    "cur.execute(consulta)\n",
    "resultados_sin_indice = cur.fetchall()\n",
    "tiempo_sin_indice = time.time() - start_time\n",
    "\n",
    "print(f'Tiempo de ejecución sin índice: {tiempo_sin_indice:.6f} segundos')\n",
    "print(f'Número de resultados sin índice: {len(resultados_sin_indice)}')\n"
   ]
  },
  {
   "cell_type": "code",
   "execution_count": 9,
   "id": "bae9a5c3",
   "metadata": {},
   "outputs": [
    {
     "name": "stdout",
     "output_type": "stream",
     "text": [
      "\n",
      "Plan de ejecución sin índice:\n",
      "(2, 0, 0, 'SCAN Clientes')\n"
     ]
    }
   ],
   "source": [
    "print(\"\\nPlan de ejecución sin índice:\")\n",
    "cur.execute(f'EXPLAIN QUERY PLAN {consulta}')\n",
    "for row in cur.fetchall():\n",
    "    print(row)"
   ]
  },
  {
   "cell_type": "code",
   "execution_count": 10,
   "id": "c7490a89",
   "metadata": {},
   "outputs": [],
   "source": [
    "# Paso 4: Crear un índice en la columna ciudad\n",
    "cur.execute('CREATE INDEX idx_ciudad ON Clientes (ciudad)')\n",
    "conn.commit()"
   ]
  },
  {
   "cell_type": "code",
   "execution_count": 11,
   "id": "a3a37717",
   "metadata": {},
   "outputs": [
    {
     "name": "stdout",
     "output_type": "stream",
     "text": [
      "Tiempo de ejecución con índice: 0.176803 segundos\n",
      "Número de resultados con índice: 42243\n"
     ]
    }
   ],
   "source": [
    "start_time = time.time()\n",
    "cur.execute(consulta)\n",
    "resultados_con_indice = cur.fetchall()\n",
    "tiempo_con_indice = time.time() - start_time\n",
    "\n",
    "\n",
    "print(f'Tiempo de ejecución con índice: {tiempo_con_indice:.6f} segundos')\n",
    "print(f'Número de resultados con índice: {len(resultados_con_indice)}')"
   ]
  },
  {
   "cell_type": "code",
   "execution_count": 12,
   "id": "93fe12f9",
   "metadata": {},
   "outputs": [
    {
     "name": "stdout",
     "output_type": "stream",
     "text": [
      "\n",
      "Plan de ejecución con índice:\n",
      "(3, 0, 0, 'SEARCH Clientes USING INDEX idx_ciudad (ciudad=?)')\n"
     ]
    }
   ],
   "source": [
    "print(\"\\nPlan de ejecución con índice:\")\n",
    "cur.execute(f'EXPLAIN QUERY PLAN {consulta}')\n",
    "for row in cur.fetchall():\n",
    "    print(row)\n",
    "\n",
    "# Cerrar la conexión\n",
    "conn.close()"
   ]
  },
  {
   "cell_type": "code",
   "execution_count": null,
   "id": "b34fe644",
   "metadata": {},
   "outputs": [],
   "source": []
  },
  {
   "cell_type": "code",
   "execution_count": null,
   "id": "2133d938",
   "metadata": {},
   "outputs": [],
   "source": [
    "\n"
   ]
  },
  {
   "cell_type": "code",
   "execution_count": null,
   "id": "19ddcadb",
   "metadata": {},
   "outputs": [],
   "source": []
  }
 ],
 "metadata": {
  "kernelspec": {
   "display_name": "Python 3 (ipykernel)",
   "language": "python",
   "name": "python3"
  },
  "language_info": {
   "codemirror_mode": {
    "name": "ipython",
    "version": 3
   },
   "file_extension": ".py",
   "mimetype": "text/x-python",
   "name": "python",
   "nbconvert_exporter": "python",
   "pygments_lexer": "ipython3",
   "version": "3.11.5"
  }
 },
 "nbformat": 4,
 "nbformat_minor": 5
}
