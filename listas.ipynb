{
 "cells": [
  {
   "cell_type": "code",
   "execution_count": 1,
   "id": "13e8aa36",
   "metadata": {},
   "outputs": [],
   "source": [
    "import time"
   ]
  },
  {
   "cell_type": "code",
   "execution_count": 2,
   "id": "6cd7dd53",
   "metadata": {},
   "outputs": [
    {
     "name": "stdout",
     "output_type": "stream",
     "text": [
      "El algoritmo demoró: 0.26918625831604004\n"
     ]
    }
   ],
   "source": [
    "start_time = time.time()\n",
    "\n",
    "lista_numeros = []\n",
    "\n",
    "for i in range(0, 1000001):\n",
    "    \n",
    "    lista_numeros.append(i)\n",
    "\n",
    "final_time = time.time() - start_time\n",
    "\n",
    "print(f\"El algoritmo demoró: {final_time}\")"
   ]
  },
  {
   "cell_type": "code",
   "execution_count": 3,
   "id": "6130f766",
   "metadata": {},
   "outputs": [
    {
     "name": "stdout",
     "output_type": "stream",
     "text": [
      "El algoritmo demoró: 0.2658579349517822\n"
     ]
    }
   ],
   "source": [
    "start_time = time.time()\n",
    "\n",
    "lista_numeros2 = [i**2 for i in range(0, 1000001)]\n",
    "\n",
    "final_time = time.time() - start_time\n",
    "\n",
    "print(f\"El algoritmo demoró: {final_time}\")"
   ]
  },
  {
   "cell_type": "code",
   "execution_count": 4,
   "id": "bf3a1c5c",
   "metadata": {},
   "outputs": [],
   "source": [
    "import sqlite3\n",
    "import random\n",
    "import time\n",
    "import os"
   ]
  },
  {
   "cell_type": "code",
   "execution_count": 5,
   "id": "415ba018",
   "metadata": {},
   "outputs": [],
   "source": [
    "conn = sqlite3.connect(os.path.join(os.getcwd(), \"clientes.sqlite3\"))  # Base de datos en memoria\n",
    "cur = conn.cursor()"
   ]
  },
  {
   "cell_type": "code",
   "execution_count": 6,
   "id": "eab3fef3",
   "metadata": {},
   "outputs": [
    {
     "data": {
      "text/plain": [
       "<sqlite3.Cursor at 0x1ed0a19c9c0>"
      ]
     },
     "execution_count": 6,
     "metadata": {},
     "output_type": "execute_result"
    }
   ],
   "source": [
    "cur.execute('''CREATE TABLE Clientes (\n",
    "                id INTEGER PRIMARY KEY,\n",
    "                nombre TEXT,\n",
    "                ciudad TEXT)''')\n"
   ]
  },
  {
   "cell_type": "code",
   "execution_count": 7,
   "id": "fc3bd43b",
   "metadata": {},
   "outputs": [],
   "source": [
    "def generar_nombre():\n",
    "    nombres = ['Juan', 'Maria', 'Matias', 'Ana', 'Carlos', 'Lucia', 'Diego', 'Laura']\n",
    "    return random.choice(nombres) + ' ' + random.choice(['Arroyo', 'Macchi', 'Lopez', 'Martinez'])\n"
   ]
  },
  {
   "cell_type": "code",
   "execution_count": 8,
   "id": "c7490a89",
   "metadata": {},
   "outputs": [],
   "source": [
    "ciudades = ['Buenos Aires', 'Córdoba', 'Rosario', 'Mendoza', 'Salta', 'La Plata', 'Mar del Plata', 'Jujuy']\n",
    "\n",
    "for i in range(1000):\n",
    "    nombre = generar_nombre()\n",
    "    ciudad = random.choice(ciudades)\n",
    "    cur.execute('INSERT INTO Clientes (nombre, ciudad) VALUES (?, ?)', (nombre, ciudad))\n"
   ]
  },
  {
   "cell_type": "code",
   "execution_count": 9,
   "id": "a3a37717",
   "metadata": {},
   "outputs": [],
   "source": [
    "conn.commit()"
   ]
  },
  {
   "cell_type": "code",
   "execution_count": 10,
   "id": "93fe12f9",
   "metadata": {},
   "outputs": [
    {
     "name": "stdout",
     "output_type": "stream",
     "text": [
      "Tiempo de ejecución sin índice: 0.000000 segundos\n",
      "Número de resultados sin índice: 141\n"
     ]
    }
   ],
   "source": [
    "ciudad_busqueda = 'Jujuy'\n",
    "consulta = f\"SELECT * FROM Clientes WHERE ciudad = '{ciudad_busqueda}'\"\n",
    "\n",
    "start_time = time.time()\n",
    "cur.execute(consulta)\n",
    "resultados_sin_indice = cur.fetchall()\n",
    "tiempo_sin_indice = time.time() - start_time\n",
    "\n",
    "print(f'Tiempo de ejecución sin índice: {tiempo_sin_indice:.6f} segundos')\n",
    "print(f'Número de resultados sin índice: {len(resultados_sin_indice)}')\n"
   ]
  },
  {
   "cell_type": "code",
   "execution_count": 11,
   "id": "b34fe644",
   "metadata": {},
   "outputs": [],
   "source": [
    "# Paso 4: Crear un índice en la columna ciudad\n",
    "cur.execute('CREATE INDEX idx_ciudad ON Clientes (ciudad)')\n",
    "conn.commit()"
   ]
  },
  {
   "cell_type": "code",
   "execution_count": 12,
   "id": "2133d938",
   "metadata": {},
   "outputs": [
    {
     "name": "stdout",
     "output_type": "stream",
     "text": [
      "Tiempo de ejecución con índice: 0.000000 segundos\n",
      "Número de resultados con índice: 141\n"
     ]
    }
   ],
   "source": [
    "start_time = time.time()\n",
    "cur.execute(consulta)\n",
    "resultados_con_indice = cur.fetchall()\n",
    "tiempo_con_indice = time.time() - start_time\n",
    "\n",
    "\n",
    "print(f'Tiempo de ejecución con índice: {tiempo_con_indice:.6f} segundos')\n",
    "print(f'Número de resultados con índice: {len(resultados_con_indice)}')\n"
   ]
  },
  {
   "cell_type": "code",
   "execution_count": null,
   "id": "19ddcadb",
   "metadata": {},
   "outputs": [],
   "source": []
  }
 ],
 "metadata": {
  "kernelspec": {
   "display_name": "Python 3 (ipykernel)",
   "language": "python",
   "name": "python3"
  },
  "language_info": {
   "codemirror_mode": {
    "name": "ipython",
    "version": 3
   },
   "file_extension": ".py",
   "mimetype": "text/x-python",
   "name": "python",
   "nbconvert_exporter": "python",
   "pygments_lexer": "ipython3",
   "version": "3.11.5"
  }
 },
 "nbformat": 4,
 "nbformat_minor": 5
}
